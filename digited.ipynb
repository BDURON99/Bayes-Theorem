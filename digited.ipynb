{
 "cells": [
  {
   "cell_type": "code",
   "execution_count": 9,
   "metadata": {},
   "outputs": [],
   "source": [
    "import matplotlib\n",
    "import matplotlib.pyplot as plt\n",
    "\n",
    "import ipywidgets as widgets\n",
    "from ipywidgets import HBox, VBox\n",
    "import numpy as np\n",
    "import matplotlib.pyplot as plt\n",
    "from IPython.display import display\n",
    "%matplotlib inline\n",
    "\n",
    "SCALE = 19\n",
    "FIG_SIZE = 5"
   ]
  },
  {
   "cell_type": "markdown",
   "metadata": {},
   "source": [
    "## Can only change forecast accuracy"
   ]
  },
  {
   "cell_type": "code",
   "execution_count": 37,
   "metadata": {},
   "outputs": [
    {
     "data": {
      "application/vnd.jupyter.widget-view+json": {
       "model_id": "cfac71ec10b64205be7858dd3d6500e4",
       "version_major": 2,
       "version_minor": 0
      },
      "text/plain": [
       "interactive(children=(IntSlider(value=70, description='forecast_accuracy'), Output()), _dom_classes=('widget-i…"
      ]
     },
     "metadata": {},
     "output_type": "display_data"
    }
   ],
   "source": [
    "@widgets.interact(forecast_accuracy=(0,100))\n",
    "def f(forecast_accuracy=70):\n",
    "    nb_rainy_days = 20\n",
    "\n",
    "    p_rain = nb_rainy_days/365\n",
    "    p_not_rain = 1 - p_rain\n",
    "\n",
    "    p_correct = forecast_accuracy/100\n",
    "\n",
    "    p_forecast_knowing_rain = p_correct\n",
    "    p_forecast_knowing_not_rain = 1 - p_correct\n",
    "    \n",
    "    fig = plt.figure(figsize=(FIG_SIZE,FIG_SIZE))\n",
    "    ax = fig.add_subplot()\n",
    "    rain = matplotlib.patches.Rectangle((0, 0),p_rain*SCALE, p_forecast_knowing_rain*SCALE, color ='blue', )\n",
    "    no_rain = matplotlib.patches.Rectangle((p_rain*SCALE, 0), p_not_rain*SCALE, p_forecast_knowing_not_rain*SCALE, color ='yellow')\n",
    "    p_forecast = p_forecast_knowing_not_rain*p_not_rain + p_forecast_knowing_rain*p_rain\n",
    "    p_rain_knowing_forecast = p_forecast_knowing_rain*p_rain/p_forecast\n",
    "    \n",
    "    ax.add_patch(rain)\n",
    "    ax.add_patch(no_rain)\n",
    "\n",
    "    plt.xlim([0, SCALE])\n",
    "    plt.ylim([0, SCALE])\n",
    "    ax.set_xticks([])\n",
    "    ax.set_yticks([])\n",
    "    ax.set_xlabel(\"P(pluie)                      P(beau temps)                              \")\n",
    "    plt.title(\"P(il va pleuvoir | la météo annonce de la pluie) = %.2f\" % p_rain_knowing_forecast)\n",
    "\n",
    "\n",
    "    plt.show()\n",
    "    #print(\"P(it will rain | he predicted rain)=\", p_rain_knowing_forecast)\n"
   ]
  },
  {
   "cell_type": "markdown",
   "metadata": {},
   "source": [
    "## Can only change number of rainy days"
   ]
  },
  {
   "cell_type": "code",
   "execution_count": 38,
   "metadata": {},
   "outputs": [
    {
     "data": {
      "application/vnd.jupyter.widget-view+json": {
       "model_id": "44b4cc491bee4f44bae426f9430fabd6",
       "version_major": 2,
       "version_minor": 0
      },
      "text/plain": [
       "interactive(children=(IntSlider(value=20, description='nb_rainy_days', max=365), Output()), _dom_classes=('wid…"
      ]
     },
     "metadata": {},
     "output_type": "display_data"
    }
   ],
   "source": [
    "@widgets.interact(nb_rainy_days=(0,365))\n",
    "def f(nb_rainy_days=20):\n",
    "    forecast_accuracy = 70\n",
    "\n",
    "    p_rain = nb_rainy_days/365\n",
    "    p_not_rain = 1 - p_rain\n",
    "\n",
    "    p_correct = forecast_accuracy/100\n",
    "\n",
    "    p_forecast_knowing_rain = p_correct\n",
    "    p_forecast_knowing_not_rain = 1 - p_correct\n",
    "    \n",
    "    fig = plt.figure(figsize=(FIG_SIZE,FIG_SIZE))\n",
    "    ax = fig.add_subplot()\n",
    "    rain = matplotlib.patches.Rectangle((0, 0),p_rain*SCALE, p_forecast_knowing_rain*SCALE, color ='blue', )\n",
    "    no_rain = matplotlib.patches.Rectangle((p_rain*SCALE, 0), p_not_rain*SCALE, p_forecast_knowing_not_rain*SCALE, color ='yellow')\n",
    "    p_forecast = p_forecast_knowing_not_rain*p_not_rain + p_forecast_knowing_rain*p_rain\n",
    "    p_rain_knowing_forecast = p_forecast_knowing_rain*p_rain/p_forecast\n",
    "    \n",
    "    ax.add_patch(rain)\n",
    "    ax.add_patch(no_rain)\n",
    "\n",
    "    plt.xlim([0, SCALE])\n",
    "    plt.ylim([0, SCALE])\n",
    "    ax.set_xticks([])\n",
    "    ax.set_yticks([])\n",
    "    ax.set_xlabel(\"P(pluie)                      P(beau temps)                              \")\n",
    "    plt.title(\"P(il va pleuvoir | la météo annonce de la pluie) = %.2f\" % p_rain_knowing_forecast)\n",
    "\n",
    "\n",
    "    plt.show()\n"
   ]
  },
  {
   "cell_type": "code",
   "execution_count": 8,
   "metadata": {},
   "outputs": [
    {
     "data": {
      "image/png": "[encoded data removed]",
      "text/plain": [
       "<Figure size 500x500 with 1 Axes>"
      ]
     },
     "metadata": {},
     "output_type": "display_data"
    },
    {
     "data": {
      "application/vnd.jupyter.widget-view+json": {
       "model_id": "d9cf5820e7b849d7b91b61e9646b17db",
       "version_major": 2,
       "version_minor": 0
      },
      "text/plain": [
       "interactive(children=(IntSlider(value=4, description='nb_rainy_days', max=365), IntSlider(value=70, descriptio…"
      ]
     },
     "metadata": {},
     "output_type": "display_data"
    }
   ],
   "source": [
    "import matplotlib\n",
    "import matplotlib.pyplot as plt\n",
    "\n",
    "import ipywidgets as widgets\n",
    "from ipywidgets import HBox, VBox\n",
    "import numpy as np\n",
    "import matplotlib.pyplot as plt\n",
    "from IPython.display import display\n",
    "%matplotlib inline\n",
    "\n",
    "\n",
    "\n",
    "@widgets.interact(nb_rainy_days=(0, 365), forecast_accuracy=(0,100))\n",
    "def f(nb_rainy_days=4, forecast_accuracy=70):\n",
    "\n",
    "    p_rain = nb_rainy_days/365\n",
    "    p_not_rain = 1 - p_rain\n",
    "\n",
    "    p_correct = forecast_accuracy/100\n",
    "\n",
    "    p_forecast_knowing_rain = p_correct\n",
    "    p_forecast_knowing_not_rain = 1 - p_correct\n",
    "    \n",
    "    fig = plt.figure(figsize=(5,5))\n",
    "    ax = fig.add_subplot()\n",
    "    rain = matplotlib.patches.Rectangle((0, 0),p_rain*scale, p_forecast_knowing_rain*scale, alpha=0.7, color ='blue', )\n",
    "    no_rain = matplotlib.patches.Rectangle((p_rain*scale, 0), p_not_rain*scale, p_forecast_knowing_not_rain*scale, alpha=0.9, color ='yellow')\n",
    "    p_forecast = p_forecast_knowing_not_rain*p_not_rain + p_forecast_knowing_rain*p_rain\n",
    "    p_rain_knowing_forecast = p_forecast_knowing_rain*p_rain/p_forecast\n",
    "    \n",
    "    ax.add_patch(rain)\n",
    "    ax.add_patch(no_rain)\n",
    "\n",
    "    ax.set_xticks([])\n",
    "    ax.set_yticks([])\n",
    "\n",
    "\n",
    "    plt.show()\n",
    "    print(\"P(it will rain | he predicted rain)=\", p_rain_knowing_forecast)\n"
   ]
  },
  {
   "cell_type": "code",
   "execution_count": null,
   "metadata": {},
   "outputs": [
    {
     "data": {
      "application/vnd.jupyter.widget-view+json": {
       "model_id": "b4db9166f6594c27bc53db7204c760fe",
       "version_major": 2,
       "version_minor": 0
      },
      "text/plain": [
       "interactive(children=(IntSlider(value=2, description='x', max=5), IntSlider(value=15, description='y', max=20,…"
      ]
     },
     "metadata": {},
     "output_type": "display_data"
    }
   ],
   "source": [
    "@widgets.interact(x=(0,5), y=(10,20))\n",
    "def g(x, y):\n",
    "    return (x, y)\n"
   ]
  },
  {
   "cell_type": "code",
   "execution_count": 8,
   "metadata": {},
   "outputs": [
    {
     "ename": "SyntaxError",
     "evalue": "incomplete input (1220628728.py, line 1)",
     "output_type": "error",
     "traceback": [
      "\u001b[0;36m  Cell \u001b[0;32mIn [8], line 1\u001b[0;36m\u001b[0m\n\u001b[0;31m    @widgets.interact(f, x=widgets.IntSlider(min=-10, max=30, step=1, value=10))\u001b[0m\n\u001b[0m                                                                                ^\u001b[0m\n\u001b[0;31mSyntaxError\u001b[0m\u001b[0;31m:\u001b[0m incomplete input\n"
     ]
    }
   ],
   "source": [
    "@widgets.interact(f, x=widgets.IntSlider(min=-10, max=30, step=1, value=10))"
   ]
  },
  {
   "cell_type": "code",
   "execution_count": null,
   "metadata": {},
   "outputs": [],
   "source": []
  }
 ],
 "metadata": {
  "kernelspec": {
   "display_name": "Python 3.10.6 64-bit",
   "language": "python",
   "name": "python3"
  },
  "language_info": {
   "codemirror_mode": {
    "name": "ipython",
    "version": 3
   },
   "file_extension": ".py",
   "mimetype": "text/x-python",
   "name": "python",
   "nbconvert_exporter": "python",
   "pygments_lexer": "ipython3",
   "version": "3.10.6"
  },
  "orig_nbformat": 4,
  "vscode": {
   "interpreter": {
    "hash": "916dbcbb3f70747c44a77c7bcd40155683ae19c65e1c03b4aa3499c5328201f1"
   }
  }
 },
 "nbformat": 4,
 "nbformat_minor": 2
}
