{
 "cells": [
  {
   "cell_type": "code",
   "execution_count": 1,
   "metadata": {},
   "outputs": [],
   "source": [
    "#import piplite\n",
    "#await piplite.install(\"ipywidgets\")\n",
    "\n",
    "import ipywidgets as widgets\n",
    "import matplotlib\n",
    "import matplotlib.pyplot as plt\n",
    "%matplotlib inline\n",
    "\n",
    "SCALE = 19\n",
    "FIG_SIZE = 5"
   ]
  },
  {
   "cell_type": "markdown",
   "metadata": {},
   "source": [
    "## Can only change forecast accuracy"
   ]
  },
  {
   "cell_type": "code",
   "execution_count": null,
   "metadata": {
    "tags": []
   },
   "outputs": [],
   "source": [
    "nb_rainy_days = 20\n",
    "p_rain = nb_rainy_days/365\n",
    "p_not_rain = 1 - p_rain\n"
   ]
  },
  {
   "cell_type": "markdown",
   "metadata": {},
   "source": [
    "## Can only change number of rainy days"
   ]
  },
  {
   "cell_type": "code",
   "execution_count": 37,
   "metadata": {},
   "outputs": [
    {
     "data": {
      "application/vnd.jupyter.widget-view+json": {
       "model_id": "4d62478b233b43bb85ed26786f426280",
       "version_major": 2,
       "version_minor": 0
      },
      "text/plain": [
       "interactive(children=(IntSlider(value=4, description='jours de pluie', max=365), Output()), _dom_classes=('wid…"
      ]
     },
     "metadata": {},
     "output_type": "display_data"
    }
   ],
   "source": [
    "@widgets.interact(nb_rainy_days=widgets.IntSlider(min=0, max=365, step=1, value=4, description='jours de pluie'))\n",
    "def f(nb_rainy_days):\n",
    "    p_rain = nb_rainy_days/365\n",
    "    p_not_rain = 1 - p_rain\n",
    "\n",
    "    rain = matplotlib.patches.Rectangle((0, 0),p_rain*SCALE, SCALE, color ='cornflowerblue', alpha = 0.3)\n",
    "    no_rain = matplotlib.patches.Rectangle((p_rain*SCALE, 0), p_not_rain*SCALE, SCALE, color = 'yellow', alpha = 0.3)\n",
    "\n",
    "    fig = plt.figure(figsize=(FIG_SIZE,FIG_SIZE))\n",
    "    ax = fig.add_subplot()\n",
    "    ax.add_patch(rain)\n",
    "    ax.add_patch(no_rain)\n",
    "    ax.set_xticks([])\n",
    "    ax.set_yticks([])\n",
    "    ax.set_xlabel(\"P(pluie)                                                   P(beau temps)\")\n",
    "\n",
    "    plt.xlim([0, SCALE])\n",
    "    plt.ylim([0, SCALE])\n",
    "    plt.show()\n",
    "\n"
   ]
  },
  {
   "cell_type": "code",
   "execution_count": 47,
   "metadata": {},
   "outputs": [
    {
     "data": {
      "application/vnd.jupyter.widget-view+json": {
       "model_id": "23f504e01b2c4c6b8b37b887ebddc1e7",
       "version_major": 2,
       "version_minor": 0
      },
      "text/plain": [
       "interactive(children=(IntSlider(value=70, description='P( pred | pluie)', orientation='vertical', step=10), Ou…"
      ]
     },
     "metadata": {},
     "output_type": "display_data"
    }
   ],
   "source": [
    "@widgets.interact(forecast_accuracy=widgets.IntSlider(min=0, max=100, step=10, value=70, description='P( pred | pluie)',  orientation='vertical'))\n",
    "def f2(forecast_accuracy):\n",
    "    p_correct = forecast_accuracy/100\n",
    "\n",
    "    p_forecast_knowing_rain = p_correct\n",
    "    p_forecast_knowing_not_rain = 1 - p_correct\n",
    "    \n",
    "    fig = plt.figure(figsize=(FIG_SIZE,FIG_SIZE))\n",
    "    ax = fig.add_subplot()\n",
    "    rain = matplotlib.patches.Rectangle((0, 0),p_rain*SCALE, p_forecast_knowing_rain*SCALE, color ='cornflowerblue', )\n",
    "    no_rain = matplotlib.patches.Rectangle((p_rain*SCALE, 0), p_not_rain*SCALE, p_forecast_knowing_not_rain*SCALE, color = 'yellow')\n",
    "    p_forecast = p_forecast_knowing_not_rain*p_not_rain + p_forecast_knowing_rain*p_rain\n",
    "    p_rain_knowing_forecast = p_forecast_knowing_rain*p_rain/p_forecast\n",
    "    rainy_days = matplotlib.patches.Rectangle((0, 0), p_rain*SCALE, SCALE, color ='cornflowerblue', alpha = 0.3)\n",
    "    sunny_days = matplotlib.patches.Rectangle((p_rain*SCALE, 0), p_not_rain*SCALE, SCALE, color ='yellow', alpha = 0.3)\n",
    "\n",
    "\n",
    "    ax.add_patch(rainy_days)\n",
    "    ax.add_patch(sunny_days)\n",
    "    ax.add_patch(rain)\n",
    "    ax.add_patch(no_rain)\n",
    "\n",
    "    plt.xlim([0, SCALE])\n",
    "    plt.ylim([0, SCALE])\n",
    "    ax.set_xticks([])\n",
    "    ax.set_yticks([])\n",
    "    ax.set_xlabel(\"P(pluie)                      P(beau temps)                              \")\n",
    "    plt.title(\"P(il va pleuvoir | la météo annonce de la pluie) = %.2f\" % p_rain_knowing_forecast)\n",
    "\n",
    "    plt.show()"
   ]
  },
  {
   "cell_type": "code",
   "execution_count": null,
   "metadata": {},
   "outputs": [],
   "source": []
  }
 ],
 "metadata": {
  "kernelspec": {
   "display_name": "Python 3.10.6 64-bit",
   "language": "python",
   "name": "python3"
  },
  "language_info": {
   "codemirror_mode": {
    "name": "ipython",
    "version": 3
   },
   "file_extension": ".py",
   "mimetype": "text/x-python",
   "name": "python",
   "nbconvert_exporter": "python",
   "pygments_lexer": "ipython3",
   "version": "3.10.6"
  },
  "orig_nbformat": 4,
  "vscode": {
   "interpreter": {
    "hash": "916dbcbb3f70747c44a77c7bcd40155683ae19c65e1c03b4aa3499c5328201f1"
   }
  }
 },
 "nbformat": 4,
 "nbformat_minor": 2
}
